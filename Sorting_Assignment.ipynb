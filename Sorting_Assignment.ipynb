{
  "nbformat": 4,
  "nbformat_minor": 0,
  "metadata": {
    "colab": {
      "provenance": []
    },
    "kernelspec": {
      "name": "python3",
      "display_name": "Python 3"
    },
    "language_info": {
      "name": "python"
    }
  },
  "cells": [
    {
      "cell_type": "code",
      "execution_count": null,
      "metadata": {
        "colab": {
          "base_uri": "https://localhost:8080/"
        },
        "id": "koYvHXyoU41Y",
        "outputId": "c26f7667-633a-40ae-8b58-1ae9cde48c95"
      },
      "outputs": [
        {
          "output_type": "execute_result",
          "data": {
            "text/plain": [
              "2"
            ]
          },
          "metadata": {},
          "execution_count": 4
        }
      ],
      "source": [
        "#Ques1: Given an array of n numbers, give an algorithm which gives the element appearing maximum number of times?\n",
        "\n",
        "def find_most_frequent_element(arr):\n",
        "    frequency = {}\n",
        "    for num in arr:\n",
        "        if num not in frequency:\n",
        "            frequency[num] = 1\n",
        "        else:\n",
        "            frequency[num] += 1\n",
        "    most_frequent_element = max(frequency, key=frequency.get)\n",
        "    return most_frequent_element\n",
        "arr = [2,7,5,9,2,2,6,8,4]\n",
        "find_most_frequent_element(arr)"
      ]
    },
    {
      "cell_type": "code",
      "source": [
        "#Ques2:We are given a list of n-1 integers and these integers are in the range of 1 to n. There are no duplicates in the list. One of the integers is missing in the list. Give an algorithm to find that element.\n",
        "\n",
        "def find_missing_element(nums):\n",
        "    n = len(nums) + 1\n",
        "    total_sum = (n * (n + 1)) // 2\n",
        "    actual_sum = sum(nums)\n",
        "    missing_element = total_sum - actual_sum\n",
        "    return missing_element\n",
        "\n",
        "nums = [1, 2, 4, 5, 6]\n",
        "missing = find_missing_element(nums)\n",
        "print(f\"The missing element is: {missing}\")"
      ],
      "metadata": {
        "colab": {
          "base_uri": "https://localhost:8080/"
        },
        "id": "RQ0H4BaFVQua",
        "outputId": "ef3daa2c-b748-4f42-fc83-10ad8658379c"
      },
      "execution_count": 1,
      "outputs": [
        {
          "output_type": "stream",
          "name": "stdout",
          "text": [
            "The missing element is: 3\n"
          ]
        }
      ]
    },
    {
      "cell_type": "code",
      "source": [
        "#Ques3: Given an array of n positive numbers. All numbers occurs even number of times except 1 which occurs odd number of times. Find that number in O(n) time and O(1) space.\n",
        "\n",
        "def find_odd_occurrence(arr):\n",
        "    result = 0\n",
        "    for num in arr:\n",
        "        result ^= num\n",
        "    return result\n",
        "arr = [1, 2, 3, 2, 3, 1, 3]\n",
        "odd_occurrence = find_odd_occurrence(arr)\n",
        "print(f\"The number occurring an odd number of times is: {odd_occurrence}\")"
      ],
      "metadata": {
        "id": "Y9M-Xo7VYxvZ",
        "colab": {
          "base_uri": "https://localhost:8080/"
        },
        "outputId": "91b2c0f3-636e-451c-bb1f-7672e82c2ac8"
      },
      "execution_count": 9,
      "outputs": [
        {
          "output_type": "stream",
          "name": "stdout",
          "text": [
            "The number occurring an odd number of times is: 3\n"
          ]
        }
      ]
    },
    {
      "cell_type": "code",
      "source": [
        "#Ques4: Given an array of n elements. Find two elements in the array such that their sum is equal to given element K.\n",
        "\n",
        "def find_two_elements_with_sum(arr, k):\n",
        "    arr.sort()\n",
        "    left = 0\n",
        "    right = len(arr) - 1\n",
        "\n",
        "    while left < right:\n",
        "        current_sum = arr[left] + arr[right]\n",
        "\n",
        "        if current_sum == k:\n",
        "            return arr[left], arr[right]\n",
        "        elif current_sum < k:\n",
        "            left += 1\n",
        "        else:\n",
        "            right -= 1\n",
        "\n",
        "    return \"No two elements found with the given sum.\"\n",
        "\n",
        "arr = [2, 4, 6, 8, 10]\n",
        "k = 14\n",
        "result = find_two_elements_with_sum(arr, k)\n",
        "print(result)"
      ],
      "metadata": {
        "colab": {
          "base_uri": "https://localhost:8080/"
        },
        "id": "OrBYou3WPzPn",
        "outputId": "471b0e06-777a-48d3-9ee0-8640fe3404ff"
      },
      "execution_count": 10,
      "outputs": [
        {
          "output_type": "stream",
          "name": "stdout",
          "text": [
            "(4, 10)\n"
          ]
        }
      ]
    },
    {
      "cell_type": "code",
      "source": [
        "#Ques5: Given an array of both positive and negative numbers, find two numbers such that their sum is closest to 0.\n",
        "\n",
        "def find_closest_to_zero(numbers):\n",
        "    closest_sum = float('inf')\n",
        "    pair = None\n",
        "\n",
        "    for i in range(len(numbers)):\n",
        "        for j in range(i + 1, len(numbers)):\n",
        "            current_sum = numbers[i] + numbers[j]\n",
        "            if abs(current_sum) < abs(closest_sum):\n",
        "                closest_sum = current_sum\n",
        "                pair = (numbers[i], numbers[j])\n",
        "\n",
        "    return pair\n",
        "\n",
        "numbers = [1, 60, -10, 70, -80, 85]\n",
        "closest_pair = find_closest_to_zero(numbers)\n",
        "print(f\"The pair of numbers closest to zero is {closest_pair}\")"
      ],
      "metadata": {
        "colab": {
          "base_uri": "https://localhost:8080/"
        },
        "id": "n8GYly1rQLHk",
        "outputId": "3ae4c6f9-3a30-4a3d-f75b-edfb8d14e0ae"
      },
      "execution_count": 11,
      "outputs": [
        {
          "output_type": "stream",
          "name": "stdout",
          "text": [
            "The pair of numbers closest to zero is (-80, 85)\n"
          ]
        }
      ]
    },
    {
      "cell_type": "code",
      "source": [
        "#Ques6: Given an array of n elements. Find three elements such that their sum is equal to the given number.\n",
        "\n",
        "def find_three_elements(arr, target_sum):\n",
        "    n = len(arr)\n",
        "    for i in range(n - 2):\n",
        "        for j in range(i + 1, n - 1):\n",
        "            for k in range(j + 1, n):\n",
        "                if arr[i] + arr[j] + arr[k] == target_sum:\n",
        "                    return [arr[i], arr[j], arr[k]]\n",
        "    return []\n",
        "\n",
        "arr = [1, 2, 3, 4, 5, 6, 7]\n",
        "target_sum = 12\n",
        "result = find_three_elements(arr, target_sum)\n",
        "print(result)"
      ],
      "metadata": {
        "colab": {
          "base_uri": "https://localhost:8080/"
        },
        "id": "JW6rsnWMQkXZ",
        "outputId": "9b68e6ff-5750-4e75-a35a-32ed4054c5a6"
      },
      "execution_count": 12,
      "outputs": [
        {
          "output_type": "stream",
          "name": "stdout",
          "text": [
            "[1, 4, 7]\n"
          ]
        }
      ]
    },
    {
      "cell_type": "code",
      "source": [
        "#Ques7: Given an array of n numbers. Find three numbers i, j, k in the array such that i*i+j*j=k*k\n",
        "\n",
        "def find_pythagorean_triplets(arr):\n",
        "    n = len(arr)\n",
        "    for i in range(n-2):\n",
        "        for j in range(i+1, n-1):\n",
        "            for k in range(j+1, n):\n",
        "                if arr[i]**2 + arr[j]**2 == arr[k]**2:\n",
        "                    return arr[i], arr[j], arr[k]\n",
        "    return None\n",
        "\n",
        "arr = [3, 4, 5, 6, 8, 10, 12, 15]\n",
        "triplet = find_pythagorean_triplets(arr)\n",
        "if triplet:\n",
        "    print(\"Pythagorean triplet found:\", triplet)\n",
        "else:\n",
        "    print(\"No Pythagorean triplet found in the array.\")"
      ],
      "metadata": {
        "colab": {
          "base_uri": "https://localhost:8080/"
        },
        "id": "mTf6NcpTR3r6",
        "outputId": "7b8e9e1f-206b-4961-8173-9582433f376c"
      },
      "execution_count": 13,
      "outputs": [
        {
          "output_type": "stream",
          "name": "stdout",
          "text": [
            "Pythagorean triplet found: (3, 4, 5)\n"
          ]
        }
      ]
    },
    {
      "cell_type": "code",
      "source": [
        "#Ques8: An element is a majority if it appears more than n/2 times. Given an algorithms takes an array of n element as argument and identifies a majority(if it exists).\n",
        "\n",
        "def find_majority_element(arr):\n",
        "    candidate = None\n",
        "    count = 0\n",
        "\n",
        "    for num in arr:\n",
        "        if count == 0:\n",
        "            candidate = num\n",
        "            count = 1\n",
        "        elif num == candidate:\n",
        "            count += 1\n",
        "        else:\n",
        "            count -= 1\n",
        "\n",
        "    count = 0\n",
        "    for num in arr:\n",
        "        if num == candidate:\n",
        "            count += 1\n",
        "\n",
        "    if count > len(arr) / 2:\n",
        "        return candidate\n",
        "    else:\n",
        "        return None"
      ],
      "metadata": {
        "id": "fSP9_-XYSLXf"
      },
      "execution_count": 14,
      "outputs": []
    },
    {
      "cell_type": "code",
      "source": [
        "#Ques9: Given n * n matrix, and in each row all 1's are followed by 0's. Find the row with the maximum number of 0's.\n",
        "\n",
        "def find_max_zeros_row(matrix):\n",
        "    max_zeros_row = -1\n",
        "    max_zeros_count = -1\n",
        "\n",
        "    for i, row in enumerate(matrix):\n",
        "        zeros_count = row.count(0)\n",
        "        if zeros_count > max_zeros_count:\n",
        "            max_zeros_count = zeros_count\n",
        "            max_zeros_row = i\n",
        "\n",
        "    return max_zeros_row\n",
        "\n",
        "matrix = [\n",
        "    [1, 1, 1, 0, 0],\n",
        "    [1, 1, 0, 0, 0],\n",
        "    [1, 1, 1, 1, 0],\n",
        "    [1, 1, 1, 0, 0],\n",
        "    [1, 1, 1, 1, 1]\n",
        "]\n",
        "\n",
        "max_zeros_row_index = find_max_zeros_row(matrix)\n",
        "print(f\"The row with the maximum number of zeros is row {max_zeros_row_index}.\")"
      ],
      "metadata": {
        "colab": {
          "base_uri": "https://localhost:8080/"
        },
        "id": "v4XxGebpSpuV",
        "outputId": "de539ebd-9a78-4631-a22c-b96d547a66ab"
      },
      "execution_count": 15,
      "outputs": [
        {
          "output_type": "stream",
          "name": "stdout",
          "text": [
            "The row with the maximum number of zeros is row 1.\n"
          ]
        }
      ]
    },
    {
      "cell_type": "code",
      "source": [
        "#Ques10: Sort an array of 0's, 1's and 2's[or R's, G's and B's]: Given an array A[] consisting of 0's, 1's and 2's, given an algorthim for sorting A[]. The algorithm should put all 0's first, then all 1's and finally all 2's at the end.\n",
        "\n",
        "def sort_array(arr):\n",
        "    low = 0\n",
        "    mid = 0\n",
        "    high = len(arr) - 1\n",
        "\n",
        "    while mid <= high:\n",
        "        if arr[mid] == 0:\n",
        "            arr[low], arr[mid] = arr[mid], arr[low]\n",
        "            low += 1\n",
        "            mid += 1\n",
        "        elif arr[mid] == 1:\n",
        "            mid += 1\n",
        "        else:\n",
        "            arr[mid], arr[high] = arr[high], arr[mid]\n",
        "            high -= 1\n",
        "\n",
        "    return arr\n",
        "\n",
        "arr = [0, 1, 1, 0, 1, 2, 1, 2, 0, 0, 0, 1]\n",
        "sorted_arr = sort_array(arr)\n",
        "print(sorted_arr)"
      ],
      "metadata": {
        "colab": {
          "base_uri": "https://localhost:8080/"
        },
        "id": "KT30VKmyTCzG",
        "outputId": "3caf1c17-4fc5-477a-ec9f-0dfdba3b83e8"
      },
      "execution_count": 16,
      "outputs": [
        {
          "output_type": "stream",
          "name": "stdout",
          "text": [
            "[0, 0, 0, 0, 0, 1, 1, 1, 1, 1, 2, 2]\n"
          ]
        }
      ]
    }
  ]
}